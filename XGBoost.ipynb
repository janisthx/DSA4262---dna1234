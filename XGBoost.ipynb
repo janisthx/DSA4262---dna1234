{
 "cells": [
  {
   "cell_type": "markdown",
   "id": "37258325",
   "metadata": {},
   "source": [
    "# XG Boost"
   ]
  },
  {
   "cell_type": "code",
   "execution_count": 9,
   "id": "5c8a9f9a",
   "metadata": {},
   "outputs": [],
   "source": [
    "import numpy as np \n",
    "import pandas as pd \n",
    "import xgboost as xgb \n",
    "import sklearn\n",
    "from sklearn.model_selection import train_test_split\n",
    "from sklearn.metrics import (\n",
    "    confusion_matrix,\n",
    "    precision_score,\n",
    "    recall_score,\n",
    "    f1_score,\n",
    "    accuracy_score,\n",
    "    roc_auc_score,\n",
    "    precision_recall_curve,\n",
    "    auc\n",
    ")"
   ]
  },
  {
   "cell_type": "code",
   "execution_count": 2,
   "id": "c69a0d4b",
   "metadata": {},
   "outputs": [
    {
     "name": "stdout",
     "output_type": "stream",
     "text": [
      "Requirement already satisfied: pip in c:\\users\\jinji\\documents\\nus\\dsa4262\\project\\.venv\\lib\\site-packages (25.2)\n",
      "Requirement already satisfied: setuptools in c:\\users\\jinji\\documents\\nus\\dsa4262\\project\\.venv\\lib\\site-packages (80.9.0)\n",
      "Requirement already satisfied: wheel in c:\\users\\jinji\\documents\\nus\\dsa4262\\project\\.venv\\lib\\site-packages (0.45.1)\n",
      "Requirement already satisfied: scikit-learn in c:\\users\\jinji\\documents\\nus\\dsa4262\\project\\.venv\\lib\\site-packages (1.7.2)\n",
      "Requirement already satisfied: numpy>=1.22.0 in c:\\users\\jinji\\documents\\nus\\dsa4262\\project\\.venv\\lib\\site-packages (from scikit-learn) (2.2.6)\n",
      "Requirement already satisfied: scipy>=1.8.0 in c:\\users\\jinji\\documents\\nus\\dsa4262\\project\\.venv\\lib\\site-packages (from scikit-learn) (1.15.3)\n",
      "Requirement already satisfied: joblib>=1.2.0 in c:\\users\\jinji\\documents\\nus\\dsa4262\\project\\.venv\\lib\\site-packages (from scikit-learn) (1.5.2)\n",
      "Requirement already satisfied: threadpoolctl>=3.1.0 in c:\\users\\jinji\\documents\\nus\\dsa4262\\project\\.venv\\lib\\site-packages (from scikit-learn) (3.6.0)\n",
      "1.7.2\n"
     ]
    }
   ],
   "source": [
    "import sys\n",
    "!{sys.executable} -m pip install --upgrade pip setuptools wheel\n",
    "!{sys.executable} -m pip install scikit-learn\n",
    "import sklearn\n",
    "print(sklearn.__version__)"
   ]
  },
  {
   "cell_type": "code",
   "execution_count": 3,
   "id": "e1b7a8da",
   "metadata": {},
   "outputs": [
    {
     "data": {
      "text/plain": [
       "(121838, 14)"
      ]
     },
     "execution_count": 3,
     "metadata": {},
     "output_type": "execute_result"
    }
   ],
   "source": [
    "df = pd.read_csv('Data/f1_agg_mean.csv')\n",
    "df.shape"
   ]
  },
  {
   "cell_type": "code",
   "execution_count": 4,
   "id": "e90fcbcf",
   "metadata": {},
   "outputs": [],
   "source": [
    "# define features\n",
    "feature_cols = [c for c in df.columns if c not in ['gene_id', 'transcript_id', 'transcript_position', 'label', 'sequence']]\n",
    "\n",
    "# split into train and test by gene_id\n",
    "gene_ids = df['gene_id'].unique()\n",
    "train_genes, test_genes = train_test_split(gene_ids, test_size=0.2, random_state=42)\n",
    "\n",
    "train_df = df[df['gene_id'].isin(train_genes)]\n",
    "test_df = df[df['gene_id'].isin(test_genes)]\n",
    "\n",
    "X_train, y_train = train_df[feature_cols], train_df['label']\n",
    "X_test, y_test = test_df[feature_cols], test_df['label']\n"
   ]
  },
  {
   "cell_type": "code",
   "execution_count": 5,
   "id": "76e3cda4",
   "metadata": {},
   "outputs": [
    {
     "name": "stdout",
     "output_type": "stream",
     "text": [
      "Train genes: 3081\n",
      "Test genes: 771\n"
     ]
    }
   ],
   "source": [
    "print(\"Train genes:\", train_df['gene_id'].nunique())\n",
    "print(\"Test genes:\", test_df['gene_id'].nunique())"
   ]
  },
  {
   "cell_type": "code",
   "execution_count": 11,
   "id": "556caee9",
   "metadata": {},
   "outputs": [
    {
     "name": "stderr",
     "output_type": "stream",
     "text": [
      "c:\\Users\\jinji\\Documents\\NUS\\DSA4262\\project\\.venv\\lib\\site-packages\\xgboost\\training.py:183: UserWarning: [00:08:08] WARNING: C:\\actions-runner\\_work\\xgboost\\xgboost\\src\\learner.cc:738: \n",
      "Parameters: { \"use_label_encoder\" } are not used.\n",
      "\n",
      "  bst.update(dtrain, iteration=i, fobj=obj)\n"
     ]
    }
   ],
   "source": [
    "# train XGBoost model\n",
    "model = xgb.XGBClassifier(\n",
    "    objective='binary:logistic',\n",
    "    eval_metric='logloss',\n",
    "    use_label_encoder=False,\n",
    "    n_estimators=100,\n",
    "    learning_rate=0.1,\n",
    "    max_depth=6,\n",
    "    random_state=42\n",
    ")\n",
    "model.fit(X_train, y_train)\n",
    "\n",
    "# make predictions\n",
    "y_prob = model.predict_proba(X_test)[:, 1]\n",
    "y_pred = (y_prob >= 0.5).astype(int)"
   ]
  },
  {
   "cell_type": "code",
   "execution_count": 12,
   "id": "58f4836a",
   "metadata": {},
   "outputs": [
    {
     "name": "stdout",
     "output_type": "stream",
     "text": [
      "=== Evaluation Metrics ===\n",
      "Confusion Matrix:\n",
      " [[23862   133]\n",
      " [  752   252]]\n",
      "Precision: 0.6545\n",
      "Recall: 0.2510\n",
      "F1 Score: 0.3629\n",
      "Accuracy: 0.9646\n",
      "ROC AUC: 0.8769\n",
      "PR AUC: 0.4052\n"
     ]
    }
   ],
   "source": [
    "cm = confusion_matrix(y_test, y_pred)\n",
    "precision = precision_score(y_test, y_pred)\n",
    "recall = recall_score(y_test, y_pred)\n",
    "f1 = f1_score(y_test, y_pred)\n",
    "accuracy = accuracy_score(y_test, y_pred)\n",
    "roc_auc = roc_auc_score(y_test, y_prob)\n",
    "precision_vals, recall_vals, _ = precision_recall_curve(y_test, y_prob)\n",
    "pr_auc = auc(recall_vals, precision_vals)\n",
    "\n",
    "# ===== 7️⃣ Output results =====\n",
    "print(\"=== Evaluation Metrics ===\")\n",
    "print(\"Confusion Matrix:\\n\", cm)\n",
    "print(f\"Precision: {precision:.4f}\")\n",
    "print(f\"Recall: {recall:.4f}\")\n",
    "print(f\"F1 Score: {f1:.4f}\")\n",
    "print(f\"Accuracy: {accuracy:.4f}\")\n",
    "print(f\"ROC AUC: {roc_auc:.4f}\")\n",
    "print(f\"PR AUC: {pr_auc:.4f}\")"
   ]
  },
  {
   "cell_type": "markdown",
   "id": "cd75493a",
   "metadata": {},
   "source": [
    "### Scaling using class weighting by XGBoost"
   ]
  },
  {
   "cell_type": "code",
   "execution_count": 13,
   "id": "b6e5343a",
   "metadata": {},
   "outputs": [
    {
     "name": "stderr",
     "output_type": "stream",
     "text": [
      "c:\\Users\\jinji\\Documents\\NUS\\DSA4262\\project\\.venv\\lib\\site-packages\\xgboost\\training.py:183: UserWarning: [00:12:27] WARNING: C:\\actions-runner\\_work\\xgboost\\xgboost\\src\\learner.cc:738: \n",
      "Parameters: { \"use_label_encoder\" } are not used.\n",
      "\n",
      "  bst.update(dtrain, iteration=i, fobj=obj)\n"
     ]
    }
   ],
   "source": [
    "num_pos = sum(y_train == 1)\n",
    "num_neg = sum(y_train == 0)\n",
    "\n",
    "scale_pos_weight = num_neg / num_pos\n",
    "\n",
    "model = xgb.XGBClassifier(\n",
    "    objective='binary:logistic',\n",
    "    eval_metric='logloss',\n",
    "    use_label_encoder=False,\n",
    "    n_estimators=100,\n",
    "    learning_rate=0.1,\n",
    "    max_depth=6,\n",
    "    scale_pos_weight=scale_pos_weight,\n",
    "    random_state=42\n",
    ")\n",
    "model.fit(X_train, y_train)\n",
    "\n",
    "# make predictions\n",
    "y_prob = model.predict_proba(X_test)[:, 1]\n",
    "y_pred = (y_prob >= 0.5).astype(int)"
   ]
  },
  {
   "cell_type": "code",
   "execution_count": 14,
   "id": "f3656975",
   "metadata": {},
   "outputs": [
    {
     "name": "stdout",
     "output_type": "stream",
     "text": [
      "=== Evaluation Metrics ===\n",
      "Confusion Matrix:\n",
      " [[20540  3455]\n",
      " [  278   726]]\n",
      "Precision: 0.1736\n",
      "Recall: 0.7231\n",
      "F1 Score: 0.2800\n",
      "Accuracy: 0.8507\n",
      "ROC AUC: 0.8725\n",
      "PR AUC: 0.4025\n"
     ]
    }
   ],
   "source": [
    "cm = confusion_matrix(y_test, y_pred)\n",
    "precision = precision_score(y_test, y_pred)\n",
    "recall = recall_score(y_test, y_pred)\n",
    "f1 = f1_score(y_test, y_pred)\n",
    "accuracy = accuracy_score(y_test, y_pred)\n",
    "roc_auc = roc_auc_score(y_test, y_prob)\n",
    "precision_vals, recall_vals, _ = precision_recall_curve(y_test, y_prob)\n",
    "pr_auc = auc(recall_vals, precision_vals)\n",
    "\n",
    "# ===== 7️⃣ Output results =====\n",
    "print(\"=== Evaluation Metrics ===\")\n",
    "print(\"Confusion Matrix:\\n\", cm)\n",
    "print(f\"Precision: {precision:.4f}\")\n",
    "print(f\"Recall: {recall:.4f}\")\n",
    "print(f\"F1 Score: {f1:.4f}\")\n",
    "print(f\"Accuracy: {accuracy:.4f}\")\n",
    "print(f\"ROC AUC: {roc_auc:.4f}\")\n",
    "print(f\"PR AUC: {pr_auc:.4f}\")"
   ]
  },
  {
   "cell_type": "code",
   "execution_count": 16,
   "id": "a9075f6e",
   "metadata": {},
   "outputs": [
    {
     "name": "stdout",
     "output_type": "stream",
     "text": [
      "Fitting 3 folds for each of 243 candidates, totalling 729 fits\n"
     ]
    },
    {
     "name": "stderr",
     "output_type": "stream",
     "text": [
      "c:\\Users\\jinji\\Documents\\NUS\\DSA4262\\project\\.venv\\lib\\site-packages\\xgboost\\training.py:183: UserWarning: [00:25:43] WARNING: C:\\actions-runner\\_work\\xgboost\\xgboost\\src\\learner.cc:738: \n",
      "Parameters: { \"use_label_encoder\" } are not used.\n",
      "\n",
      "  bst.update(dtrain, iteration=i, fobj=obj)\n"
     ]
    },
    {
     "name": "stdout",
     "output_type": "stream",
     "text": [
      "Best params: {'colsample_bytree': 1.0, 'learning_rate': 0.05, 'max_depth': 6, 'n_estimators': 300, 'scale_pos_weight': 20.6593603220756, 'subsample': 0.8}\n"
     ]
    }
   ],
   "source": [
    "from sklearn.model_selection import GridSearchCV\n",
    "\n",
    "param_grid = {\n",
    "    'max_depth': [4, 6, 8],\n",
    "    'learning_rate': [0.05, 0.1, 0.2],\n",
    "    'n_estimators': [100, 200, 300],\n",
    "    'subsample': [0.7, 0.8, 1.0],\n",
    "    'colsample_bytree': [0.7, 0.8, 1.0],\n",
    "    'scale_pos_weight': [scale_pos_weight]\n",
    "}\n",
    "\n",
    "grid = GridSearchCV(\n",
    "    estimator=xgb.XGBClassifier(\n",
    "        objective='binary:logistic',\n",
    "        eval_metric='logloss',\n",
    "        use_label_encoder=False,\n",
    "        random_state=42\n",
    "    ),\n",
    "    param_grid=param_grid,\n",
    "    scoring='roc_auc',  # or 'average_precision' for PR AUC\n",
    "    cv=3,\n",
    "    verbose=1,\n",
    "    n_jobs=-1\n",
    ")\n",
    "\n",
    "grid.fit(X_train, y_train)\n",
    "print(\"Best params:\", grid.best_params_)\n"
   ]
  }
 ],
 "metadata": {
  "kernelspec": {
   "display_name": ".venv (3.10.6)",
   "language": "python",
   "name": "python3"
  },
  "language_info": {
   "codemirror_mode": {
    "name": "ipython",
    "version": 3
   },
   "file_extension": ".py",
   "mimetype": "text/x-python",
   "name": "python",
   "nbconvert_exporter": "python",
   "pygments_lexer": "ipython3",
   "version": "3.10.6"
  }
 },
 "nbformat": 4,
 "nbformat_minor": 5
}
