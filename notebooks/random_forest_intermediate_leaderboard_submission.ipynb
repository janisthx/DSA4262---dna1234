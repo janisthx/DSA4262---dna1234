{
 "cells": [
  {
   "cell_type": "code",
   "execution_count": 52,
   "id": "5bf60567",
   "metadata": {},
   "outputs": [],
   "source": [
    "import pandas as pd\n",
    "from joblib import load\n",
    "import numpy as np\n",
    "from sklearn.ensemble import RandomForestClassifier"
   ]
  },
  {
   "cell_type": "code",
   "execution_count": 54,
   "id": "e06cb64e",
   "metadata": {},
   "outputs": [],
   "source": [
    "test_df = pd.read_csv(\"C:/Users/Janis/Desktop/DSA4262/Group project/f2_noskew_ohe.csv\")\n",
    "model = joblib.load(\"C:/Users/Janis/Desktop/DSA4262/Group project/random_forest.joblib\")"
   ]
  },
  {
   "cell_type": "code",
   "execution_count": 57,
   "id": "77bdec46",
   "metadata": {},
   "outputs": [],
   "source": [
    "meta_cols = [\"transcript_id\", \"transcript_position\", \"label\", \"gene_id\"]\n",
    "X_test = test_df.drop(columns=meta_cols)\n",
    "meta = test_df"
   ]
  },
  {
   "cell_type": "code",
   "execution_count": 58,
   "id": "173c5513",
   "metadata": {},
   "outputs": [],
   "source": [
    "probs = model.predict_proba(X_test)[:, 1]"
   ]
  },
  {
   "cell_type": "code",
   "execution_count": 59,
   "id": "46532500",
   "metadata": {},
   "outputs": [],
   "source": [
    "submission = meta.copy()\n",
    "submission[\"score\"] = probs"
   ]
  },
  {
   "cell_type": "code",
   "execution_count": null,
   "id": "aae32c3d",
   "metadata": {},
   "outputs": [
    {
     "name": "stdout",
     "output_type": "stream",
     "text": [
      "Submission file saved: dna1234_dataset0_1.csv\n"
     ]
    }
   ],
   "source": [
    "submission.to_csv(\"dna1234_dataset0_1.csv\", index=False)\n",
    "print(\"Submission file saved: dna1234_dataset0_1.csv\")"
   ]
  }
 ],
 "metadata": {
  "kernelspec": {
   "display_name": "Python 3",
   "language": "python",
   "name": "python3"
  },
  "language_info": {
   "codemirror_mode": {
    "name": "ipython",
    "version": 3
   },
   "file_extension": ".py",
   "mimetype": "text/x-python",
   "name": "python",
   "nbconvert_exporter": "python",
   "pygments_lexer": "ipython3",
   "version": "3.10.6"
  }
 },
 "nbformat": 4,
 "nbformat_minor": 5
}
